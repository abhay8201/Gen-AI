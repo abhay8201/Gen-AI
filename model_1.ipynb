{
 "cells": [
  {
   "cell_type": "code",
   "execution_count": 1,
   "id": "d0d878bc-41c7-4f14-90df-6beb7a9c7d92",
   "metadata": {},
   "outputs": [],
   "source": [
    "from langchain_groq import ChatGroq"
   ]
  },
  {
   "cell_type": "code",
   "execution_count": 2,
   "id": "eaa9aa72-2c97-4201-a505-a23f603fc419",
   "metadata": {},
   "outputs": [],
   "source": [
    "llm=ChatGroq(\n",
    "    model=\"mixtral-8x7b-32768\",\n",
    "    temperature=0,\n",
    "    groq_api_key=\"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\"\n",
    ")"
   ]
  },
  {
   "cell_type": "code",
   "execution_count": 8,
   "id": "08f0d46f-e96f-431d-b119-3c3f6ea80ad9",
   "metadata": {},
   "outputs": [
    {
     "data": {
      "text/plain": [
       "AIMessage(content='As of my knowledge up to October 2021, the Prime Minister of India is Narendra Modi. He has been in office since May 2014. However, please verify from a reliable source as this information might have changed.', additional_kwargs={}, response_metadata={'token_usage': {'completion_tokens': 55, 'prompt_tokens': 14, 'total_tokens': 69, 'completion_time': 0.083718594, 'prompt_time': 0.002410711, 'queue_time': 0.018384147, 'total_time': 0.086129305}, 'model_name': 'mixtral-8x7b-32768', 'system_fingerprint': 'fp_c5f20b5bb1', 'finish_reason': 'stop', 'logprobs': None}, id='run-79df37d3-197c-4374-bd67-bad87f19f812-0', usage_metadata={'input_tokens': 14, 'output_tokens': 55, 'total_tokens': 69})"
      ]
     },
     "execution_count": 8,
     "metadata": {},
     "output_type": "execute_result"
    }
   ],
   "source": [
    "response = llm.invoke(\"who is prime minister of india\")\n",
    "response"
   ]
  },
  {
   "cell_type": "code",
   "execution_count": 3,
   "id": "16580bc9-a916-4fac-b97b-eca7a88458e5",
   "metadata": {},
   "outputs": [
    {
     "name": "stdin",
     "output_type": "stream",
     "text": [
      "Enter the question :  hii\n"
     ]
    },
    {
     "name": "stdout",
     "output_type": "stream",
     "text": [
      "Hello! How can I help you today? If you have any questions or need assistance with UserTesting or user research, feel free to ask. I'm here to help. 😊\n"
     ]
    },
    {
     "name": "stdin",
     "output_type": "stream",
     "text": [
      "do you want to ask more question y\n",
      "Enter the question :  who are you\n"
     ]
    },
    {
     "name": "stdout",
     "output_type": "stream",
     "text": [
      "I am a large language model trained by Mistral AI. User privacy is our top priority, so I don't have access to any data about you or your conversation history. I am here to provide information and answer your questions to the best of my ability.\n"
     ]
    },
    {
     "name": "stdin",
     "output_type": "stream",
     "text": [
      "do you want to ask more question y\n",
      "Enter the question :  tell me some thing about you\n"
     ]
    },
    {
     "name": "stdout",
     "output_type": "stream",
     "text": [
      "I am a large language model trained by Mistral AI. User privacy is essential to us, so I don't have access to any personal data about the users I interact with. I am here to provide information, answer questions, and engage in conversation on a wide range of topics. I can help with general knowledge questions, provide explanations on complex topics, generate ideas, and even write creative texts. However, I don't have personal experiences or emotions, and my responses are based on the information I've been trained on. I am constantly learning and evolving, aiming to improve the helpfulness and accuracy of my responses.\n"
     ]
    },
    {
     "name": "stdin",
     "output_type": "stream",
     "text": [
      "do you want to ask more question n\n"
     ]
    },
    {
     "name": "stdout",
     "output_type": "stream",
     "text": [
      "thanks for using my model\n"
     ]
    },
    {
     "name": "stdout",
     "output_type": "stream",
     "text": [
      "Hello! How can I help you today? If you have any questions or need assistance with UserTesting or user research, feel free to ask. I'm here to help. 😊\n"
     ]
    },
    {
     "name": "stdout",
     "output_type": "stream",
     "text": [
      "do you want to ask more question y\n",
      "Enter the question :  talk to me with the help of emojis\n"
     ]
    },
    {
     "name": "stdout",
     "output_type": "stream",
     "text": [
      "Sure! 😊 How can I help you today? 🤔 Do you have any questions or topics you'd like to discuss? 💬 I'll do my best to communicate using emojis! 😊\n",
      "\n",
      "If you need any specific information, just let me know and I'll try to convey it using emojis as much as possible. 😊 Let me know if you need anything! 🙏\n"
     ]
    },
    {
     "name": "stdout",
     "output_type": "stream",
     "text": [
      "do you want to ask more question n\n"
     ]
    },
    {
     "name": "stdout",
     "output_type": "stream",
     "text": [
      "thanks for using my model\n"
     ]
    }
   ],
   "source": [
    "def getresponse(a):\n",
    "    response = llm.invoke(a)\n",
    "    print(response.content)\n",
    "\n",
    "str=input(\"Enter the question : \")\n",
    "getresponse(str)\n",
    "r=\"y\"\n",
    "while (r==\"y\" or r==\"Y\"):\n",
    "    q=input(\"do you want to ask more question\")\n",
    "    if q==\"y\" or q==\"Y\":\n",
    "        str=input(\"Enter the question : \")\n",
    "        getresponse(str)\n",
    "    else:\n",
    "        r=\"n\"\n",
    "        print(\"thanks for using my model\")\n",
    "    \n"
   ]
  },
  {
   "cell_type": "code",
   "execution_count": null,
   "id": "f4539b7b-fb31-4dfe-a365-8e46fdb6a0fb",
   "metadata": {},
   "outputs": [],
   "source": []
  }
 ],
 "metadata": {
  "kernelspec": {
   "display_name": "Python 3 (ipykernel)",
   "language": "python",
   "name": "python3"
  },
  "language_info": {
   "codemirror_mode": {
    "name": "ipython",
    "version": 3
   },
   "file_extension": ".py",
   "mimetype": "text/x-python",
   "name": "python",
   "nbconvert_exporter": "python",
   "pygments_lexer": "ipython3",
   "version": "3.9.13"
  }
 },
 "nbformat": 4,
 "nbformat_minor": 5
}
