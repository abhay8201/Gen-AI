{
 "cells": [
  {
   "cell_type": "code",
   "execution_count": 8,
   "id": "4280d886-00db-4056-939a-fe374d946111",
   "metadata": {},
   "outputs": [
    {
     "name": "stdout",
     "output_type": "stream",
     "text": [
      "{\n",
      "    \"errors\": [],\n",
      "    \"suggestions\": [\n",
      "        \"Add a docstring to describe the function's purpose, parameters, and return value.\",\n",
      "        \"Consider using type hints for the parameters and return value.\",\n",
      "        \"Use f-string for better string formatting if 'a' and 'b' are not guaranteed to be numbers.\"\n",
      "    ],\n",
      "    \"optimized_code\": \"def add(a, b) -> float:\\n    \\\"Return the sum of a and b.\\\"\\n    return a + b\"\n",
      "}\n"
     ]
    }
   ],
   "source": [
    "from langchain_groq import ChatGroq\n",
    "import json\n",
    "\n",
    "llm = ChatGroq(\n",
    "    model=\"mixtral-8x7b-32768\",\n",
    "    temperature=0,\n",
    "    groq_api_key=\"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\"\n",
    ")\n",
    "\n",
    "python_code = \"\"\"\n",
    "def add(a, b):\n",
    "    return a + b\n",
    "\"\"\"\n",
    "\n",
    "# Structured prompt for JSON output\n",
    "code_review_prompt = f\"\"\"\n",
    "You are a professional Python code reviewer. \n",
    "Analyze the following function and provide a structured review.\n",
    "\n",
    "Return the response in strict JSON format with three keys:\n",
    "{{\n",
    "    \"errors\": [],  # List of syntax or logical errors\n",
    "    \"suggestions\": [],  # List of improvements\n",
    "    \"optimized_code\": \"\"  # Corrected and optimized function\n",
    "}}\n",
    "\n",
    "Function to review:\n",
    "{python_code}\n",
    "\"\"\"\n",
    "\n",
    "# Invoke the LLM\n",
    "response = llm.invoke(code_review_prompt)\n",
    "# Ensure response is valid JSON\n",
    "try:\n",
    "    review_result = json.loads(response.content.strip())\n",
    "    print(json.dumps(review_result, indent=4))  # Pretty-print JSON output\n",
    "except json.JSONDecodeError:\n",
    "    print(\"Error: The response was not valid JSON.\")\n"
   ]
  },
  {
   "cell_type": "code",
   "execution_count": null,
   "id": "d3e87092-63fe-436d-b49c-2050f9c88c0c",
   "metadata": {},
   "outputs": [],
   "source": []
  }
 ],
 "metadata": {
  "kernelspec": {
   "display_name": "Python 3 (ipykernel)",
   "language": "python",
   "name": "python3"
  },
  "language_info": {
   "codemirror_mode": {
    "name": "ipython",
    "version": 3
   },
   "file_extension": ".py",
   "mimetype": "text/x-python",
   "name": "python",
   "nbconvert_exporter": "python",
   "pygments_lexer": "ipython3",
   "version": "3.9.13"
  }
 },
 "nbformat": 4,
 "nbformat_minor": 5
}
