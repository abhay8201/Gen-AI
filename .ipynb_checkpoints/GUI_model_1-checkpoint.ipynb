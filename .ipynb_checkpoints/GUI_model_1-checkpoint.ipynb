{
 "cells": [
  {
   "cell_type": "code",
   "execution_count": null,
   "id": "bfa29913-8798-499a-8dc0-2b14813f2b50",
   "metadata": {},
   "outputs": [],
   "source": [
    "import tkinter as tk\n",
    "from tkinter import scrolledtext\n",
    "from langchain_groq import ChatGroq\n",
    "\n",
    "# Initialize the ChatGroq model\n",
    "llm = ChatGroq(\n",
    "    model=\"mixtral-8x7b-32768\",\n",
    "    temperature=0,\n",
    "    groq_api_key=\"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\"\n",
    ")\n",
    "\n",
    "# Function to get the response from the model\n",
    "def getresponse(a):\n",
    "    response = llm.invoke(a)\n",
    "    return response.content\n",
    "\n",
    "# Function to send the message and display it in the chat window\n",
    "def send_message():\n",
    "    user_input = user_entry.get()  # Get the user input from the entry box\n",
    "    chat_window.config(state=tk.NORMAL)  # Enable editing the chat window\n",
    "    \n",
    "    # Display user input\n",
    "    chat_window.insert(tk.END, \"You: \" + user_input + \"\\n\")\n",
    "    \n",
    "    # Get the model response\n",
    "    model_response = getresponse(user_input)\n",
    "    \n",
    "    # Display model response\n",
    "    chat_window.insert(tk.END, \"Bot: \" + model_response + \"\\n\\n\")\n",
    "    \n",
    "    # Scroll the chat window to the bottom\n",
    "    chat_window.yview(tk.END)\n",
    "    \n",
    "    # Clear the input field for the next question\n",
    "    user_entry.delete(0, tk.END)\n",
    "    \n",
    "# Create the main window\n",
    "root = tk.Tk()\n",
    "root.title(\"Chat with Groq Model\")\n",
    "\n",
    "# Create a scrolled text widget for displaying the chat\n",
    "chat_window = scrolledtext.ScrolledText(root, width=60, height=20, wrap=tk.WORD, state=tk.DISABLED)\n",
    "chat_window.grid(row=0, column=0, padx=10, pady=10)\n",
    "\n",
    "# Create an entry widget for user input\n",
    "user_entry = tk.Entry(root, width=50)\n",
    "user_entry.grid(row=1, column=0, padx=10, pady=10)\n",
    "\n",
    "# Create a button to send the message\n",
    "send_button = tk.Button(root, text=\"Send\", width=15, command=send_message)\n",
    "send_button.grid(row=2, column=0, padx=10, pady=10)\n",
    "\n",
    "# Run the application\n",
    "root.mainloop()\n"
   ]
  }
 ],
 "metadata": {
  "kernelspec": {
   "display_name": "Python 3 (ipykernel)",
   "language": "python",
   "name": "python3"
  },
  "language_info": {
   "codemirror_mode": {
    "name": "ipython",
    "version": 3
   },
   "file_extension": ".py",
   "mimetype": "text/x-python",
   "name": "python",
   "nbconvert_exporter": "python",
   "pygments_lexer": "ipython3",
   "version": "3.9.13"
  }
 },
 "nbformat": 4,
 "nbformat_minor": 5
}
