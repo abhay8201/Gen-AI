{
 "cells": [
  {
   "cell_type": "code",
   "execution_count": 1,
   "id": "25bbe1d6-3cc7-4777-95fe-6fd99e2e8903",
   "metadata": {},
   "outputs": [],
   "source": [
    "import PyPDF2\n",
    "from langchain_groq import ChatGroq\n",
    "\n",
    "# Initialize the ChatGroq instance\n",
    "llm = ChatGroq(\n",
    "    model=\"mixtral-8x7b-32768\",\n",
    "    temperature=0.2,\n",
    "    groq_api_key=\"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\"\n",
    ")"
   ]
  },
  {
   "cell_type": "code",
   "execution_count": 2,
   "id": "ac27469c-babb-4a52-a64e-f26153ce6168",
   "metadata": {},
   "outputs": [],
   "source": [
    "# Function to extract text from PDF\n",
    "def extract_text_from_pdf(pdf_path):\n",
    "    try:\n",
    "        with open(pdf_path, \"rb\") as file:\n",
    "            reader = PyPDF2.PdfReader(file)\n",
    "            text = \"\"\n",
    "            for page in reader.pages:\n",
    "                text += page.extract_text()\n",
    "        return text\n",
    "    except Exception as e:\n",
    "        print(f\"Error reading PDF: {e}\")\n",
    "        return \"\"\n"
   ]
  },
  {
   "cell_type": "code",
   "execution_count": 3,
   "id": "179aa5d9-fe29-44d5-ac31-6d7871a30594",
   "metadata": {},
   "outputs": [],
   "source": [
    "# Function to query the content\n",
    "def query_pdf_content(pdf_content, query):\n",
    "    prompt = f\"\"\"\n",
    "    You are a PDF content assistant. The following text is extracted from a PDF document:\n",
    "    ---\n",
    "    {pdf_content}\n",
    "    ---\n",
    "    Answer the user's query based on the above content. If the answer is not found in the text, reply with 'No information exists.'\n",
    "    \n",
    "    Query: {query}\n",
    "    \"\"\"\n",
    "    response = llm.invoke(prompt, max_tokens=150)\n",
    "    return response.content.strip()  # Accessing the content attribute and applying strip()"
   ]
  },
  {
   "cell_type": "code",
   "execution_count": null,
   "id": "36739820-7e0c-42f3-a374-e39f3a77b73f",
   "metadata": {},
   "outputs": [
    {
     "name": "stdin",
     "output_type": "stream",
     "text": [
      "Ask your question (or type 'exit' to quit):  give me the syntax for running the python code\n"
     ]
    },
    {
     "name": "stdout",
     "output_type": "stream",
     "text": [
      "Response: The syntax for running a Python program is as follows:\n",
      "\n",
      "1. Save the Python code in a file with a `.py` extension. For example, you might name your file `program.py`.\n",
      "2. Open a terminal or command prompt.\n",
      "3. Navigate to the directory where you saved the Python file.\n",
      "4. Run the Python file by typing `python` followed by the name of the file. For example, you would type `python program.py` to run the program saved in `program.py`.\n",
      "\n",
      "The text you provided focuses on the syntax for defining a class in Python, rather than the syntax for running a Python program. If you have any questions about the class syntax, I'd\n"
     ]
    },
    {
     "name": "stdin",
     "output_type": "stream",
     "text": [
      "Ask your question (or type 'exit' to quit):  how to create a class in python\n"
     ]
    },
    {
     "name": "stdout",
     "output_type": "stream",
     "text": [
      "Response: To create a class in Python, you can use the \"class\" keyword followed by the class name. The class name should generally start with a capital letter and can be followed by letters, underscores, or numbers. It cannot be a Python reserved keyword. Here is an example of creating a class:\n",
      "```python\n",
      "class Class_name:\n",
      "    pass\n",
      "```\n",
      "You can also initialize instance variables in the class using the `__init__` method, which is called automatically when an object of the class is created. Here is an example:\n",
      "```python\n",
      "class Class_name:\n",
      "    def __init__(self):\n",
      "        self.VM = value\n",
      "```\n",
      "In this example, `self\n"
     ]
    },
    {
     "name": "stdin",
     "output_type": "stream",
     "text": [
      "Ask your question (or type 'exit' to quit):  how to create coonstructor in python\n"
     ]
    },
    {
     "name": "stdout",
     "output_type": "stream",
     "text": [
      "Response: To create a constructor in a Python class, you can define a special method called `__init__` in the class. This method is called automatically when an object of the class is created. It is used to initialize the instance variables of the class.\n",
      "\n",
      "Here is an example of how to create a constructor in a Python class:\n",
      "\n",
      "```python\n",
      "class MyClass:\n",
      "  def __init__(self):\n",
      "    self.my_variable = 0\n",
      "```\n",
      "\n",
      "In this example, the `__init__` method takes a single parameter `self`, which refers to the current class object/instance. The method initializes the `my_variable` instance variable to 0.\n",
      "\n",
      "You can also pass\n"
     ]
    },
    {
     "name": "stdin",
     "output_type": "stream",
     "text": [
      "Ask your question (or type 'exit' to quit):  give me the list of questions that can be asked from this pdf\n"
     ]
    },
    {
     "name": "stdout",
     "output_type": "stream",
     "text": [
      "Response: Sure, here are some potential questions that could be asked based on the content of the PDF:\n",
      "\n",
      "1. What is a class in Python?\n",
      "2. What are the attributes and methods of a class in Python?\n",
      "3. What is the syntax for creating a class in Python?\n",
      "4. What is the purpose of the `__init__` method in a class?\n",
      "5. What is the meaning of the `self` parameter in a class method?\n",
      "6. What is an empty class in Python?\n",
      "7. What are the rules for naming a class in Python?\n",
      "8. How are objects created from a class in Python?\n",
      "9. What is the difference between a class variable and an instance variable\n"
     ]
    },
    {
     "name": "stdin",
     "output_type": "stream",
     "text": [
      "Ask your question (or type 'exit' to quit):  most expected questions\n"
     ]
    },
    {
     "name": "stdout",
     "output_type": "stream",
     "text": [
      "Response: Here are some of the most expected questions about the Python class based on the provided text:\n",
      "\n",
      "1. What is a class in Python?\n",
      "A class in Python is a collection of objects that consists of class variables and class methods. It is a model that defines the properties and behaviors of a group of objects.\n",
      "2. What is an attribute in a Python class?\n",
      "An attribute in a Python class is a variable that contains data. It is used to define the properties of a class.\n",
      "3. What is a method in a Python class?\n",
      "A method in a Python class is similar to a function that performs a specific task or logic. It is used to define the behaviors of a class.\n",
      "4. What is the syntax\n"
     ]
    }
   ],
   "source": [
    "# Main Execution\n",
    "pdf_path = \"01-Class.pdf\"  # Replace with your PDF file path\n",
    "pdf_content = extract_text_from_pdf(pdf_path)\n",
    "\n",
    "if pdf_content:\n",
    "    while True:\n",
    "        user_query = input(\"Ask your question (or type 'exit' to quit): \")\n",
    "        if user_query.lower() == \"exit\":\n",
    "            break\n",
    "        response = query_pdf_content(pdf_content, user_query)\n",
    "        print(\"Response:\", response)\n",
    "else:\n",
    "    print(\"Could not extract content from the PDF.\")\n"
   ]
  },
  {
   "cell_type": "code",
   "execution_count": null,
   "id": "26405c6d-4214-41aa-bf56-6a77cce49171",
   "metadata": {},
   "outputs": [],
   "source": []
  }
 ],
 "metadata": {
  "kernelspec": {
   "display_name": "Python 3 (ipykernel)",
   "language": "python",
   "name": "python3"
  },
  "language_info": {
   "codemirror_mode": {
    "name": "ipython",
    "version": 3
   },
   "file_extension": ".py",
   "mimetype": "text/x-python",
   "name": "python",
   "nbconvert_exporter": "python",
   "pygments_lexer": "ipython3",
   "version": "3.9.13"
  }
 },
 "nbformat": 4,
 "nbformat_minor": 5
}
