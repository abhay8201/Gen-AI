{
 "cells": [
  {
   "cell_type": "code",
   "execution_count": 1,
   "id": "3c96668a-9b00-47cc-9e13-afb18a2f433d",
   "metadata": {},
   "outputs": [],
   "source": [
    "import streamlit as st\n",
    "from langchain_groq import ChatGroq"
   ]
  },
  {
   "cell_type": "code",
   "execution_count": 2,
   "id": "99118c3d-5679-4980-8519-f40cfd0db3cd",
   "metadata": {},
   "outputs": [],
   "source": [
    "# Initialize the ChatGroq model\n",
    "llm = ChatGroq(\n",
    "    model=\"mixtral-8x7b-32768\",\n",
    "    temperature=0,\n",
    "    groq_api_key=\"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\"\n",
    ")"
   ]
  },
  {
   "cell_type": "code",
   "execution_count": null,
   "id": "3c79fd81-ff30-4ad7-9ff5-a379df40aaf1",
   "metadata": {},
   "outputs": [],
   "source": [
    "st.title(\"Simple LLM Chatbot\")\n",
    "st.write(\"Enter your Query Below : \")"
   ]
  }
 ],
 "metadata": {
  "kernelspec": {
   "display_name": "Python 3 (ipykernel)",
   "language": "python",
   "name": "python3"
  },
  "language_info": {
   "codemirror_mode": {
    "name": "ipython",
    "version": 3
   },
   "file_extension": ".py",
   "mimetype": "text/x-python",
   "name": "python",
   "nbconvert_exporter": "python",
   "pygments_lexer": "ipython3",
   "version": "3.9.13"
  }
 },
 "nbformat": 4,
 "nbformat_minor": 5
}
